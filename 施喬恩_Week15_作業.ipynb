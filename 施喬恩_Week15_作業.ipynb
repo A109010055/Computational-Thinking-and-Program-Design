{
  "nbformat": 4,
  "nbformat_minor": 0,
  "metadata": {
    "kernelspec": {
      "display_name": "Python 3",
      "language": "python",
      "name": "python3"
    },
    "language_info": {
      "codemirror_mode": {
        "name": "ipython",
        "version": 3
      },
      "file_extension": ".py",
      "mimetype": "text/x-python",
      "name": "python",
      "nbconvert_exporter": "python",
      "pygments_lexer": "ipython3",
      "version": "3.8.5"
    },
    "colab": {
      "name": "施喬恩 - Week15 -作業.ipynb",
      "provenance": [],
      "include_colab_link": true
    }
  },
  "cells": [
    {
      "cell_type": "markdown",
      "metadata": {
        "id": "view-in-github",
        "colab_type": "text"
      },
      "source": [
        "<a href=\"https://colab.research.google.com/github/A109010055/Computational-Thinking-and-Program-Design/blob/main/%E6%96%BD%E5%96%AC%E6%81%A9_Week15_%E4%BD%9C%E6%A5%AD.ipynb\" target=\"_parent\"><img src=\"https://colab.research.google.com/assets/colab-badge.svg\" alt=\"Open In Colab\"/></a>"
      ]
    },
    {
      "cell_type": "code",
      "metadata": {
        "colab": {
          "base_uri": "https://localhost:8080/",
          "height": 134
        },
        "id": "VANcaQx-RXiW",
        "outputId": "f97255da-1b23-497c-ecbe-fba070cede1f"
      },
      "source": [
        "In [1]: ## 方法（一）：直接鍵入True或False\n",
        "...: True\n",
        "...: False\n",
        "True\n",
        "False\n",
        "In [2]: ## 請注意大小寫不同\n",
        "...: true\n",
        "...: false\n",
        "...: TRUE\n",
        "...: FALSE\n",
        "Traceback (most recent call last):\n",
        "File \"<ipython-input-2-7729cf8819e0>\", line 6, in <module>\n",
        "true\n",
        "NameError: name 'true' is not defined"
      ],
      "execution_count": 3,
      "outputs": [
        {
          "output_type": "error",
          "ename": "SyntaxError",
          "evalue": "ignored",
          "traceback": [
            "\u001b[0;36m  File \u001b[0;32m\"<ipython-input-3-e10fbd607325>\"\u001b[0;36m, line \u001b[0;32m11\u001b[0m\n\u001b[0;31m    Traceback (most recent call last):\u001b[0m\n\u001b[0m                         ^\u001b[0m\n\u001b[0;31mSyntaxError\u001b[0m\u001b[0;31m:\u001b[0m invalid syntax\n"
          ]
        }
      ]
    },
    {
      "cell_type": "code",
      "metadata": {
        "colab": {
          "base_uri": "https://localhost:8080/"
        },
        "id": "_pCz-YgNTKbW",
        "outputId": "24c0f4b2-f6c9-468f-fa09-f5c2afd7c4ca"
      },
      "source": [
        "In [1]: ## 方法（二）：用bool()函式建立。\n",
        "...: bool(1)\n",
        "...: bool(0)\n",
        "True\n",
        "False"
      ],
      "execution_count": 4,
      "outputs": [
        {
          "output_type": "execute_result",
          "data": {
            "text/plain": [
              "False"
            ]
          },
          "metadata": {
            "tags": []
          },
          "execution_count": 4
        }
      ]
    },
    {
      "cell_type": "code",
      "metadata": {
        "colab": {
          "base_uri": "https://localhost:8080/",
          "height": 134
        },
        "id": "TREklo-VTPQF",
        "outputId": "31f8f2f0-7bee-4012-8c00-8590fb8eac23"
      },
      "source": [
        "In [1]: ## 查看資料的種類\n",
        "...: type(True)\n",
        "...: type(False)\n",
        "bool\n",
        "bool\n",
        "In [2]: print(type(bool(1)))\n",
        "...: print(type(bool(0)))\n",
        "...: print(type(1))\n",
        "...: print(type(0))\n",
        "...: print(type(1.0))\n",
        "...: print(type(0.0))\n",
        "...: print(type(\"1\"))\n",
        "...: print(type(\"0\"))\n",
        "<class 'bool'>\n",
        "<class 'bool'>\n",
        "<class 'int'>\n",
        "<class 'int'>\n",
        "<class 'float'>\n",
        "<class 'float'>\n",
        "<class 'str'>\n",
        "<class 'str'>"
      ],
      "execution_count": 5,
      "outputs": [
        {
          "output_type": "error",
          "ename": "SyntaxError",
          "evalue": "ignored",
          "traceback": [
            "\u001b[0;36m  File \u001b[0;32m\"<ipython-input-5-ff40b0bea601>\"\u001b[0;36m, line \u001b[0;32m14\u001b[0m\n\u001b[0;31m    <class 'bool'>\u001b[0m\n\u001b[0m    ^\u001b[0m\n\u001b[0;31mSyntaxError\u001b[0m\u001b[0;31m:\u001b[0m invalid syntax\n"
          ]
        }
      ]
    }
  ]
}