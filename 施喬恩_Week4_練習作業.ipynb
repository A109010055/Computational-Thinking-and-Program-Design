{
  "nbformat": 4,
  "nbformat_minor": 0,
  "metadata": {
    "colab": {
      "name": "施喬恩-Week4-練習作業.ipynb",
      "provenance": [],
      "authorship_tag": "ABX9TyN6il/u73m1Um9n6Iu0ALlm",
      "include_colab_link": true
    },
    "kernelspec": {
      "name": "python3",
      "display_name": "Python 3"
    }
  },
  "cells": [
    {
      "cell_type": "markdown",
      "metadata": {
        "id": "view-in-github",
        "colab_type": "text"
      },
      "source": [
        "<a href=\"https://colab.research.google.com/github/A109010055/Computational-Thinking-and-Program-Design/blob/main/%E6%96%BD%E5%96%AC%E6%81%A9_Week4_%E7%B7%B4%E7%BF%92%E4%BD%9C%E6%A5%AD.ipynb\" target=\"_parent\"><img src=\"https://colab.research.google.com/assets/colab-badge.svg\" alt=\"Open In Colab\"/></a>"
      ]
    },
    {
      "cell_type": "code",
      "metadata": {
        "id": "H7i65bGhVMux"
      },
      "source": [
        ""
      ],
      "execution_count": null,
      "outputs": []
    },
    {
      "cell_type": "markdown",
      "metadata": {
        "id": "mzBUO2X5VNNn"
      },
      "source": [
        "######"
      ]
    },
    {
      "cell_type": "markdown",
      "metadata": {
        "id": "OpoH9ho9WS2s"
      },
      "source": [
        ""
      ]
    },
    {
      "cell_type": "markdown",
      "metadata": {
        "id": "mvuJvHEmVrnV"
      },
      "source": [
        ""
      ]
    }
  ]
}