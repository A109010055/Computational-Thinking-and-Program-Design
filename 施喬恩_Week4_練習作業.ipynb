{
  "nbformat": 4,
  "nbformat_minor": 0,
  "metadata": {
    "colab": {
      "name": "施喬恩-Week4-練習作業.ipynb",
      "provenance": [],
      "authorship_tag": "ABX9TyN/w86Oz6pFnfqbziydk2k/",
      "include_colab_link": true
    },
    "kernelspec": {
      "name": "python3",
      "display_name": "Python 3"
    }
  },
  "cells": [
    {
      "cell_type": "markdown",
      "metadata": {
        "id": "view-in-github",
        "colab_type": "text"
      },
      "source": [
        "<a href=\"https://colab.research.google.com/github/A109010055/Computational-Thinking-and-Program-Design/blob/main/%E6%96%BD%E5%96%AC%E6%81%A9_Week4_%E7%B7%B4%E7%BF%92%E4%BD%9C%E6%A5%AD.ipynb\" target=\"_parent\"><img src=\"https://colab.research.google.com/assets/colab-badge.svg\" alt=\"Open In Colab\"/></a>"
      ]
    },
    {
      "cell_type": "code",
      "metadata": {
        "id": "H7i65bGhVMux"
      },
      "source": [
        ""
      ],
      "execution_count": null,
      "outputs": []
    },
    {
      "cell_type": "markdown",
      "metadata": {
        "id": "mzBUO2X5VNNn"
      },
      "source": [
        "######"
      ]
    },
    {
      "cell_type": "markdown",
      "metadata": {
        "id": "OpoH9ho9WS2s"
      },
      "source": [
        "#課堂練習"
      ]
    },
    {
      "cell_type": "markdown",
      "metadata": {
        "id": "GrWqZdijYVTA"
      },
      "source": [
        "(1)隨堂練習為各單元重點摘要，(2)課後練習則為從一則新聞報導，提出你對新聞系（OO系）學生為什麼要學「運算思維與程式設計」的見解。（告訴我新聞連結，以及你的觀點即可。）\r\n"
      ]
    },
    {
      "cell_type": "markdown",
      "metadata": {
        "id": "mvuJvHEmVrnV"
      },
      "source": [
        "[連結文字]https://www.rti.org.tw/news/view/id/2046263"
      ]
    },
    {
      "cell_type": "markdown",
      "metadata": {
        "id": "dqlNdc3WnEPg"
      },
      "source": [
        "連台師大都開設了如此的課程,相信此課程對新聞系也有相當貢獻。\r\n"
      ]
    }
  ]
}